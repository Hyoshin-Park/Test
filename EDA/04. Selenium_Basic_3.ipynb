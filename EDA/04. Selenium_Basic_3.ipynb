{
 "cells": [
  {
   "cell_type": "markdown",
   "metadata": {},
   "source": [
    "- iframe => basic_1\n",
    "- headless => basic_2\n",
    "- wait => basic_3"
   ]
  },
  {
   "cell_type": "markdown",
   "metadata": {},
   "source": [
    "# Wait\n",
    "- time.sleep(5): 물리적으로 5초 동안 멈추고 기다린다\n",
    "- implicitily_wait(10)\n",
    "    - 페이지 로딩을 최대 10초 간 기다리고, 10초 안에 페이지 로딩이 완료되면 다음 코드 실행\n",
    "    - 한번만 실행해주면 global로 이용가능\n",
    "- explicitly wait\n",
    "    - 지정한 태그만 로딩이 완료되면, 다음 코드 실행"
   ]
  },
  {
   "cell_type": "markdown",
   "metadata": {},
   "source": [
    "- 무신사 스토어\n",
    "- https://www.musinsa.com/app/\n",
    "- 인기 => 후드 집업\n",
    "- 단독 상품, 세일상품 조건을 선택\n",
    "- 최소~최대 금액 입력\n",
    "- 옷 이름, 가격, 할인율, 링크, 이미지"
   ]
  },
  {
   "cell_type": "code",
   "execution_count": 2,
   "metadata": {},
   "outputs": [],
   "source": [
    "import pandas as pd\n",
    "import time\n",
    "from selenium import webdriver\n",
    "from selenium.webdriver.common.by import By\n",
    "from selenium.webdriver.support.ui import WebDriverWait\n",
    "from selenium.webdriver.support import expected_conditions as EC \n"
   ]
  },
  {
   "cell_type": "code",
   "execution_count": 3,
   "metadata": {},
   "outputs": [],
   "source": [
    "url = \"https://www.musinsa.com/app/\"\n",
    "driver = webdriver.Chrome(\"../driver/chromedriver.exe\")\n",
    "driver.implicitly_wait(10) # 웹 페이지가 전체가 로딩 될 때까지 10초 간 대기하고 10초 안에 로딩이 완료되면 다음 코드를 실행\n",
    "driver.get(url)"
   ]
  },
  {
   "cell_type": "code",
   "execution_count": 4,
   "metadata": {},
   "outputs": [],
   "source": [
    "# 로그인 버튼 클릭\n",
    "driver.find_element_by_css_selector(\"#default_top > div.header-member > button\").click()"
   ]
  },
  {
   "cell_type": "code",
   "execution_count": 5,
   "metadata": {},
   "outputs": [],
   "source": [
    "# ID 입력\n",
    "driver.find_element_by_css_selector(\"body > div.container.login > section > div.login-member > form > div.login-member__form > div:nth-child(10) > div > input\").send_keys(\"skgytls123\")"
   ]
  },
  {
   "cell_type": "code",
   "execution_count": 6,
   "metadata": {},
   "outputs": [],
   "source": [
    "# 패스워드 입력\n",
    "driver.find_element_by_css_selector(\"body > div.container.login > section > div.login-member > form > div.login-member__form > div:nth-child(11) > div > input\").send_keys(\"park980831!\")"
   ]
  },
  {
   "cell_type": "code",
   "execution_count": 7,
   "metadata": {},
   "outputs": [],
   "source": [
    "# 로그인 버튼 압력\n",
    "driver.find_element_by_css_selector(\"body > div.container.login > section > div.login-member > form > div.login-button.login-button--static > button\").click()"
   ]
  },
  {
   "cell_type": "code",
   "execution_count": 8,
   "metadata": {},
   "outputs": [
    {
     "ename": "NoAlertPresentException",
     "evalue": "Message: no such alert\n  (Session info: chrome=99.0.4844.51)\n",
     "output_type": "error",
     "traceback": [
      "\u001b[1;31m---------------------------------------------------------------------------\u001b[0m",
      "\u001b[1;31mNoAlertPresentException\u001b[0m                   Traceback (most recent call last)",
      "\u001b[1;32m~\\AppData\\Local\\Temp/ipykernel_10212/868787629.py\u001b[0m in \u001b[0;36m<module>\u001b[1;34m\u001b[0m\n\u001b[0;32m      1\u001b[0m \u001b[1;31m# alert\u001b[0m\u001b[1;33m\u001b[0m\u001b[1;33m\u001b[0m\u001b[0m\n\u001b[0;32m      2\u001b[0m \u001b[1;33m\u001b[0m\u001b[0m\n\u001b[1;32m----> 3\u001b[1;33m \u001b[0malert\u001b[0m \u001b[1;33m=\u001b[0m \u001b[0mdriver\u001b[0m\u001b[1;33m.\u001b[0m\u001b[0mswitch_to\u001b[0m\u001b[1;33m.\u001b[0m\u001b[0malert\u001b[0m\u001b[1;33m\u001b[0m\u001b[1;33m\u001b[0m\u001b[0m\n\u001b[0m\u001b[0;32m      4\u001b[0m \u001b[0malert\u001b[0m\u001b[1;33m.\u001b[0m\u001b[0maccept\u001b[0m\u001b[1;33m(\u001b[0m\u001b[1;33m)\u001b[0m\u001b[1;33m\u001b[0m\u001b[1;33m\u001b[0m\u001b[0m\n",
      "\u001b[1;32m~\\miniconda3\\envs\\ds_study\\lib\\site-packages\\selenium\\webdriver\\remote\\switch_to.py\u001b[0m in \u001b[0;36malert\u001b[1;34m(self)\u001b[0m\n\u001b[0;32m     53\u001b[0m         \"\"\"\n\u001b[0;32m     54\u001b[0m         \u001b[0malert\u001b[0m \u001b[1;33m=\u001b[0m \u001b[0mAlert\u001b[0m\u001b[1;33m(\u001b[0m\u001b[0mself\u001b[0m\u001b[1;33m.\u001b[0m\u001b[0m_driver\u001b[0m\u001b[1;33m)\u001b[0m\u001b[1;33m\u001b[0m\u001b[1;33m\u001b[0m\u001b[0m\n\u001b[1;32m---> 55\u001b[1;33m         \u001b[0malert\u001b[0m\u001b[1;33m.\u001b[0m\u001b[0mtext\u001b[0m\u001b[1;33m\u001b[0m\u001b[1;33m\u001b[0m\u001b[0m\n\u001b[0m\u001b[0;32m     56\u001b[0m         \u001b[1;32mreturn\u001b[0m \u001b[0malert\u001b[0m\u001b[1;33m\u001b[0m\u001b[1;33m\u001b[0m\u001b[0m\n\u001b[0;32m     57\u001b[0m \u001b[1;33m\u001b[0m\u001b[0m\n",
      "\u001b[1;32m~\\miniconda3\\envs\\ds_study\\lib\\site-packages\\selenium\\webdriver\\common\\alert.py\u001b[0m in \u001b[0;36mtext\u001b[1;34m(self)\u001b[0m\n\u001b[0;32m     65\u001b[0m         \"\"\"\n\u001b[0;32m     66\u001b[0m         \u001b[1;32mif\u001b[0m \u001b[0mself\u001b[0m\u001b[1;33m.\u001b[0m\u001b[0mdriver\u001b[0m\u001b[1;33m.\u001b[0m\u001b[0mw3c\u001b[0m\u001b[1;33m:\u001b[0m\u001b[1;33m\u001b[0m\u001b[1;33m\u001b[0m\u001b[0m\n\u001b[1;32m---> 67\u001b[1;33m             \u001b[1;32mreturn\u001b[0m \u001b[0mself\u001b[0m\u001b[1;33m.\u001b[0m\u001b[0mdriver\u001b[0m\u001b[1;33m.\u001b[0m\u001b[0mexecute\u001b[0m\u001b[1;33m(\u001b[0m\u001b[0mCommand\u001b[0m\u001b[1;33m.\u001b[0m\u001b[0mW3C_GET_ALERT_TEXT\u001b[0m\u001b[1;33m)\u001b[0m\u001b[1;33m[\u001b[0m\u001b[1;34m\"value\"\u001b[0m\u001b[1;33m]\u001b[0m\u001b[1;33m\u001b[0m\u001b[1;33m\u001b[0m\u001b[0m\n\u001b[0m\u001b[0;32m     68\u001b[0m         \u001b[1;32melse\u001b[0m\u001b[1;33m:\u001b[0m\u001b[1;33m\u001b[0m\u001b[1;33m\u001b[0m\u001b[0m\n\u001b[0;32m     69\u001b[0m             \u001b[1;32mreturn\u001b[0m \u001b[0mself\u001b[0m\u001b[1;33m.\u001b[0m\u001b[0mdriver\u001b[0m\u001b[1;33m.\u001b[0m\u001b[0mexecute\u001b[0m\u001b[1;33m(\u001b[0m\u001b[0mCommand\u001b[0m\u001b[1;33m.\u001b[0m\u001b[0mGET_ALERT_TEXT\u001b[0m\u001b[1;33m)\u001b[0m\u001b[1;33m[\u001b[0m\u001b[1;34m\"value\"\u001b[0m\u001b[1;33m]\u001b[0m\u001b[1;33m\u001b[0m\u001b[1;33m\u001b[0m\u001b[0m\n",
      "\u001b[1;32m~\\miniconda3\\envs\\ds_study\\lib\\site-packages\\selenium\\webdriver\\remote\\webdriver.py\u001b[0m in \u001b[0;36mexecute\u001b[1;34m(self, driver_command, params)\u001b[0m\n\u001b[0;32m    319\u001b[0m         \u001b[0mresponse\u001b[0m \u001b[1;33m=\u001b[0m \u001b[0mself\u001b[0m\u001b[1;33m.\u001b[0m\u001b[0mcommand_executor\u001b[0m\u001b[1;33m.\u001b[0m\u001b[0mexecute\u001b[0m\u001b[1;33m(\u001b[0m\u001b[0mdriver_command\u001b[0m\u001b[1;33m,\u001b[0m \u001b[0mparams\u001b[0m\u001b[1;33m)\u001b[0m\u001b[1;33m\u001b[0m\u001b[1;33m\u001b[0m\u001b[0m\n\u001b[0;32m    320\u001b[0m         \u001b[1;32mif\u001b[0m \u001b[0mresponse\u001b[0m\u001b[1;33m:\u001b[0m\u001b[1;33m\u001b[0m\u001b[1;33m\u001b[0m\u001b[0m\n\u001b[1;32m--> 321\u001b[1;33m             \u001b[0mself\u001b[0m\u001b[1;33m.\u001b[0m\u001b[0merror_handler\u001b[0m\u001b[1;33m.\u001b[0m\u001b[0mcheck_response\u001b[0m\u001b[1;33m(\u001b[0m\u001b[0mresponse\u001b[0m\u001b[1;33m)\u001b[0m\u001b[1;33m\u001b[0m\u001b[1;33m\u001b[0m\u001b[0m\n\u001b[0m\u001b[0;32m    322\u001b[0m             response['value'] = self._unwrap_value(\n\u001b[0;32m    323\u001b[0m                 response.get('value', None))\n",
      "\u001b[1;32m~\\miniconda3\\envs\\ds_study\\lib\\site-packages\\selenium\\webdriver\\remote\\errorhandler.py\u001b[0m in \u001b[0;36mcheck_response\u001b[1;34m(self, response)\u001b[0m\n\u001b[0;32m    240\u001b[0m                 \u001b[0malert_text\u001b[0m \u001b[1;33m=\u001b[0m \u001b[0mvalue\u001b[0m\u001b[1;33m[\u001b[0m\u001b[1;34m'alert'\u001b[0m\u001b[1;33m]\u001b[0m\u001b[1;33m.\u001b[0m\u001b[0mget\u001b[0m\u001b[1;33m(\u001b[0m\u001b[1;34m'text'\u001b[0m\u001b[1;33m)\u001b[0m\u001b[1;33m\u001b[0m\u001b[1;33m\u001b[0m\u001b[0m\n\u001b[0;32m    241\u001b[0m             \u001b[1;32mraise\u001b[0m \u001b[0mexception_class\u001b[0m\u001b[1;33m(\u001b[0m\u001b[0mmessage\u001b[0m\u001b[1;33m,\u001b[0m \u001b[0mscreen\u001b[0m\u001b[1;33m,\u001b[0m \u001b[0mstacktrace\u001b[0m\u001b[1;33m,\u001b[0m \u001b[0malert_text\u001b[0m\u001b[1;33m)\u001b[0m\u001b[1;33m\u001b[0m\u001b[1;33m\u001b[0m\u001b[0m\n\u001b[1;32m--> 242\u001b[1;33m         \u001b[1;32mraise\u001b[0m \u001b[0mexception_class\u001b[0m\u001b[1;33m(\u001b[0m\u001b[0mmessage\u001b[0m\u001b[1;33m,\u001b[0m \u001b[0mscreen\u001b[0m\u001b[1;33m,\u001b[0m \u001b[0mstacktrace\u001b[0m\u001b[1;33m)\u001b[0m\u001b[1;33m\u001b[0m\u001b[1;33m\u001b[0m\u001b[0m\n\u001b[0m\u001b[0;32m    243\u001b[0m \u001b[1;33m\u001b[0m\u001b[0m\n\u001b[0;32m    244\u001b[0m     \u001b[1;32mdef\u001b[0m \u001b[0m_value_or_default\u001b[0m\u001b[1;33m(\u001b[0m\u001b[0mself\u001b[0m\u001b[1;33m,\u001b[0m \u001b[0mobj\u001b[0m\u001b[1;33m,\u001b[0m \u001b[0mkey\u001b[0m\u001b[1;33m,\u001b[0m \u001b[0mdefault\u001b[0m\u001b[1;33m)\u001b[0m\u001b[1;33m:\u001b[0m\u001b[1;33m\u001b[0m\u001b[1;33m\u001b[0m\u001b[0m\n",
      "\u001b[1;31mNoAlertPresentException\u001b[0m: Message: no such alert\n  (Session info: chrome=99.0.4844.51)\n"
     ]
    }
   ],
   "source": [
    "# alert\n",
    "\n",
    "alert = driver.switch_to.alert\n",
    "alert.accept()"
   ]
  },
  {
   "cell_type": "code",
   "execution_count": 9,
   "metadata": {},
   "outputs": [],
   "source": [
    "driver.find_element_by_css_selector(\"#default_top > div.header-member > div:nth-child(10) > a\").click()"
   ]
  },
  {
   "cell_type": "code",
   "execution_count": 10,
   "metadata": {},
   "outputs": [],
   "source": [
    "WebDriverWait(driver, 5).\\\n",
    "until(EC.presence_of_element_located((By.CSS_SELECTOR, \"#default_top > div.header-member > button\"))).click()"
   ]
  },
  {
   "cell_type": "code",
   "execution_count": 11,
   "metadata": {},
   "outputs": [],
   "source": [
    "# wait 기능과 함께 하기\n",
    "\n",
    "WebDriverWait(driver, 5).\\\n",
    "until(EC.presence_of_element_located((By.CSS_SELECTOR, \"body > div.container.login > section > div.login-member > form > div.login-member__form > div:nth-child(10) > div > input\"))).send_keys(\"skgytls123\")\n",
    "\n",
    "WebDriverWait(driver, 5).\\\n",
    "until(EC.presence_of_element_located((By.CSS_SELECTOR, \"body > div.container.login > section > div.login-member > form > div.login-member__form > div:nth-child(11) > div > input\"))).send_keys(\"park980831!\")\n",
    "\n",
    "WebDriverWait(driver, 5).\\\n",
    "until(EC.presence_of_element_located((By.CSS_SELECTOR, \"body > div.container.login > section > div.login-member > form > div.login-button.login-button--static > button\"))).click()"
   ]
  },
  {
   "cell_type": "code",
   "execution_count": 12,
   "metadata": {},
   "outputs": [
    {
     "data": {
      "text/plain": [
       "'https://search.musinsa.com/category/002022'"
      ]
     },
     "execution_count": 12,
     "metadata": {},
     "output_type": "execute_result"
    }
   ],
   "source": [
    "# 인기 => 후드 집업\n",
    "besk_link = driver.find_element_by_css_selector(\"#ui-id-2 > ul:nth-child(1) > li:nth-child(1) > a\").get_attribute(\"href\")\n",
    "besk_link"
   ]
  },
  {
   "cell_type": "code",
   "execution_count": 13,
   "metadata": {},
   "outputs": [],
   "source": [
    "# 인기 => 후드 집업 링크 => 새 탭으로 열기\n",
    "driver.execute_script(\"window.open('{}')\".format(besk_link))"
   ]
  },
  {
   "cell_type": "code",
   "execution_count": 14,
   "metadata": {},
   "outputs": [
    {
     "name": "stderr",
     "output_type": "stream",
     "text": [
      "C:\\Users\\nihso\\AppData\\Local\\Temp/ipykernel_10212/1263441556.py:2: DeprecationWarning: use driver.switch_to.window instead\n",
      "  driver.switch_to_window(driver.window_handles[1])\n"
     ]
    }
   ],
   "source": [
    "# 후드 집업 탭으로 이동\n",
    "driver.switch_to_window(driver.window_handles[1])"
   ]
  },
  {
   "cell_type": "code",
   "execution_count": 15,
   "metadata": {},
   "outputs": [
    {
     "ename": "NameError",
     "evalue": "name 'minPrice' is not defined",
     "output_type": "error",
     "traceback": [
      "\u001b[1;31m---------------------------------------------------------------------------\u001b[0m",
      "\u001b[1;31mNameError\u001b[0m                                 Traceback (most recent call last)",
      "\u001b[1;32m~\\AppData\\Local\\Temp/ipykernel_10212/1282383104.py\u001b[0m in \u001b[0;36m<module>\u001b[1;34m\u001b[0m\n\u001b[0;32m     16\u001b[0m \u001b[1;33m\u001b[0m\u001b[0m\n\u001b[0;32m     17\u001b[0m \u001b[1;33m\u001b[0m\u001b[0m\n\u001b[1;32m---> 18\u001b[1;33m \u001b[0mminPrice\u001b[0m\u001b[1;33m\u001b[0m\u001b[1;33m\u001b[0m\u001b[0m\n\u001b[0m\u001b[0;32m     19\u001b[0m \u001b[1;31m#minPrice\u001b[0m\u001b[1;33m\u001b[0m\u001b[1;33m\u001b[0m\u001b[0m\n\u001b[0;32m     20\u001b[0m \u001b[1;31m#minPrice\u001b[0m\u001b[1;33m\u001b[0m\u001b[1;33m\u001b[0m\u001b[0m\n",
      "\u001b[1;31mNameError\u001b[0m: name 'minPrice' is not defined"
     ]
    }
   ],
   "source": [
    "# 단독 상품\n",
    "\n",
    "# driver.find_element_by_css_selector(\"#goods_list > div.boxed-list-wrapper > div.thumbType_box.box > span:nth-child(2) > label\").click()\n",
    "\n",
    "WebDriverWait(driver, 5).\\\n",
    "until(EC.presence_of_element_located((By.CSS_SELECTOR, \"#goods_list > div.boxed-list-wrapper > div.thumbType_box.box > span:nth-child(2) > label\"))).click()\n",
    "\n",
    "# 세일 상품\n",
    "\n",
    "# driver.find_element_by_css_selector(\"#btn_sale\").click()\n",
    "\n",
    "WebDriverWait(driver, 5).\\\n",
    "until(EC.presence_of_element_located((By.CSS_SELECTOR, \"#btn_sale\"))).click()\n",
    "\n"
   ]
  },
  {
   "cell_type": "code",
   "execution_count": 16,
   "metadata": {},
   "outputs": [],
   "source": [
    "WebDriverWait(driver, 5).\\\n",
    "until(EC.presence_of_element_located((By.CSS_SELECTOR, \"#minPrice\"))).send_keys(10000)\n",
    "\n",
    "WebDriverWait(driver, 5).\\\n",
    "until(EC.presence_of_element_located((By.XPATH, '/html/body/div[2]/div[3]/div[7]/ul/li[7]/input[2]'))).send_keys(100000)\n",
    "\n",
    "WebDriverWait(driver, 5).\\\n",
    "until(EC.presence_of_element_located((By.CSS_SELECTOR, \"#btn_price_search\"))).click()\n",
    "\n"
   ]
  },
  {
   "cell_type": "code",
   "execution_count": 17,
   "metadata": {},
   "outputs": [
    {
     "data": {
      "text/plain": [
       "90"
      ]
     },
     "execution_count": 17,
     "metadata": {},
     "output_type": "execute_result"
    }
   ],
   "source": [
    "# 부모 태그\n",
    "# \"#searchList > li:nth-child(1) > div.li_inner\"\n",
    "outers = driver.find_elements_by_css_selector(\"#searchList > li\")\n",
    "len(outers)"
   ]
  },
  {
   "cell_type": "code",
   "execution_count": 18,
   "metadata": {},
   "outputs": [
    {
     "data": {
      "text/plain": [
       "'2WAY 스웻 후드 집업 (MELANGE GREY)'"
      ]
     },
     "execution_count": 18,
     "metadata": {},
     "output_type": "execute_result"
    }
   ],
   "source": [
    "# 자식 태그\n",
    "# 옷이름\n",
    "outers[0].find_element_by_css_selector(\"p.list_info > a\").text"
   ]
  },
  {
   "cell_type": "code",
   "execution_count": 19,
   "metadata": {},
   "outputs": [
    {
     "data": {
      "text/plain": [
       "'42,500'"
      ]
     },
     "execution_count": 19,
     "metadata": {},
     "output_type": "execute_result"
    }
   ],
   "source": [
    "# 옷 가격\n",
    "outers[0].find_element_by_css_selector('p.price').text.split(\" \")[1][:-1]"
   ]
  },
  {
   "cell_type": "code",
   "execution_count": 20,
   "metadata": {},
   "outputs": [
    {
     "data": {
      "text/plain": [
       "'6'"
      ]
     },
     "execution_count": 20,
     "metadata": {},
     "output_type": "execute_result"
    }
   ],
   "source": [
    "# 할인율\n",
    "\n",
    "outers[0].find_element_by_css_selector('.icon_new').text.split(\" \")[1][:-1]"
   ]
  },
  {
   "cell_type": "code",
   "execution_count": 21,
   "metadata": {},
   "outputs": [
    {
     "data": {
      "text/plain": [
       "'https://image.msscdn.net/images/goods_img/20210204/1778404/1778404_1_125.jpg'"
      ]
     },
     "execution_count": 21,
     "metadata": {},
     "output_type": "execute_result"
    }
   ],
   "source": [
    "# 이미지\n",
    "\n",
    "outers[0].find_element_by_css_selector(\"img\").get_attribute(\"src\")\n",
    "\n"
   ]
  },
  {
   "cell_type": "code",
   "execution_count": 22,
   "metadata": {},
   "outputs": [
    {
     "ename": "InvalidSelectorException",
     "evalue": "Message: invalid selector: An invalid or illegal selector was specified\n  (Session info: chrome=99.0.4844.51)\n",
     "output_type": "error",
     "traceback": [
      "\u001b[1;31m---------------------------------------------------------------------------\u001b[0m",
      "\u001b[1;31mInvalidSelectorException\u001b[0m                  Traceback (most recent call last)",
      "\u001b[1;32m~\\AppData\\Local\\Temp/ipykernel_10212/4196490510.py\u001b[0m in \u001b[0;36m<module>\u001b[1;34m\u001b[0m\n\u001b[0;32m      1\u001b[0m \u001b[1;31m# 세부 링크\u001b[0m\u001b[1;33m\u001b[0m\u001b[1;33m\u001b[0m\u001b[0m\n\u001b[0;32m      2\u001b[0m \u001b[1;33m\u001b[0m\u001b[0m\n\u001b[1;32m----> 3\u001b[1;33m \u001b[0mouters\u001b[0m\u001b[1;33m[\u001b[0m\u001b[1;36m0\u001b[0m\u001b[1;33m]\u001b[0m\u001b[1;33m.\u001b[0m\u001b[0mfind_element_by_css_selector\u001b[0m\u001b[1;33m(\u001b[0m\u001b[1;34m\"p.list_info > a > \"\u001b[0m\u001b[1;33m)\u001b[0m\u001b[1;33m.\u001b[0m\u001b[0mget_attribute\u001b[0m\u001b[1;33m(\u001b[0m\u001b[1;34m\"href\"\u001b[0m\u001b[1;33m)\u001b[0m\u001b[1;33m\u001b[0m\u001b[1;33m\u001b[0m\u001b[0m\n\u001b[0m",
      "\u001b[1;32m~\\miniconda3\\envs\\ds_study\\lib\\site-packages\\selenium\\webdriver\\remote\\webelement.py\u001b[0m in \u001b[0;36mfind_element_by_css_selector\u001b[1;34m(self, css_selector)\u001b[0m\n\u001b[0;32m    428\u001b[0m             \u001b[0melement\u001b[0m \u001b[1;33m=\u001b[0m \u001b[0melement\u001b[0m\u001b[1;33m.\u001b[0m\u001b[0mfind_element_by_css_selector\u001b[0m\u001b[1;33m(\u001b[0m\u001b[1;34m'#foo'\u001b[0m\u001b[1;33m)\u001b[0m\u001b[1;33m\u001b[0m\u001b[1;33m\u001b[0m\u001b[0m\n\u001b[0;32m    429\u001b[0m         \"\"\"\n\u001b[1;32m--> 430\u001b[1;33m         \u001b[1;32mreturn\u001b[0m \u001b[0mself\u001b[0m\u001b[1;33m.\u001b[0m\u001b[0mfind_element\u001b[0m\u001b[1;33m(\u001b[0m\u001b[0mby\u001b[0m\u001b[1;33m=\u001b[0m\u001b[0mBy\u001b[0m\u001b[1;33m.\u001b[0m\u001b[0mCSS_SELECTOR\u001b[0m\u001b[1;33m,\u001b[0m \u001b[0mvalue\u001b[0m\u001b[1;33m=\u001b[0m\u001b[0mcss_selector\u001b[0m\u001b[1;33m)\u001b[0m\u001b[1;33m\u001b[0m\u001b[1;33m\u001b[0m\u001b[0m\n\u001b[0m\u001b[0;32m    431\u001b[0m \u001b[1;33m\u001b[0m\u001b[0m\n\u001b[0;32m    432\u001b[0m     \u001b[1;32mdef\u001b[0m \u001b[0mfind_elements_by_css_selector\u001b[0m\u001b[1;33m(\u001b[0m\u001b[0mself\u001b[0m\u001b[1;33m,\u001b[0m \u001b[0mcss_selector\u001b[0m\u001b[1;33m)\u001b[0m\u001b[1;33m:\u001b[0m\u001b[1;33m\u001b[0m\u001b[1;33m\u001b[0m\u001b[0m\n",
      "\u001b[1;32m~\\miniconda3\\envs\\ds_study\\lib\\site-packages\\selenium\\webdriver\\remote\\webelement.py\u001b[0m in \u001b[0;36mfind_element\u001b[1;34m(self, by, value)\u001b[0m\n\u001b[0;32m    656\u001b[0m                 \u001b[0mvalue\u001b[0m \u001b[1;33m=\u001b[0m \u001b[1;34m'[name=\"%s\"]'\u001b[0m \u001b[1;33m%\u001b[0m \u001b[0mvalue\u001b[0m\u001b[1;33m\u001b[0m\u001b[1;33m\u001b[0m\u001b[0m\n\u001b[0;32m    657\u001b[0m \u001b[1;33m\u001b[0m\u001b[0m\n\u001b[1;32m--> 658\u001b[1;33m         return self._execute(Command.FIND_CHILD_ELEMENT,\n\u001b[0m\u001b[0;32m    659\u001b[0m                              {\"using\": by, \"value\": value})['value']\n\u001b[0;32m    660\u001b[0m \u001b[1;33m\u001b[0m\u001b[0m\n",
      "\u001b[1;32m~\\miniconda3\\envs\\ds_study\\lib\\site-packages\\selenium\\webdriver\\remote\\webelement.py\u001b[0m in \u001b[0;36m_execute\u001b[1;34m(self, command, params)\u001b[0m\n\u001b[0;32m    631\u001b[0m             \u001b[0mparams\u001b[0m \u001b[1;33m=\u001b[0m \u001b[1;33m{\u001b[0m\u001b[1;33m}\u001b[0m\u001b[1;33m\u001b[0m\u001b[1;33m\u001b[0m\u001b[0m\n\u001b[0;32m    632\u001b[0m         \u001b[0mparams\u001b[0m\u001b[1;33m[\u001b[0m\u001b[1;34m'id'\u001b[0m\u001b[1;33m]\u001b[0m \u001b[1;33m=\u001b[0m \u001b[0mself\u001b[0m\u001b[1;33m.\u001b[0m\u001b[0m_id\u001b[0m\u001b[1;33m\u001b[0m\u001b[1;33m\u001b[0m\u001b[0m\n\u001b[1;32m--> 633\u001b[1;33m         \u001b[1;32mreturn\u001b[0m \u001b[0mself\u001b[0m\u001b[1;33m.\u001b[0m\u001b[0m_parent\u001b[0m\u001b[1;33m.\u001b[0m\u001b[0mexecute\u001b[0m\u001b[1;33m(\u001b[0m\u001b[0mcommand\u001b[0m\u001b[1;33m,\u001b[0m \u001b[0mparams\u001b[0m\u001b[1;33m)\u001b[0m\u001b[1;33m\u001b[0m\u001b[1;33m\u001b[0m\u001b[0m\n\u001b[0m\u001b[0;32m    634\u001b[0m \u001b[1;33m\u001b[0m\u001b[0m\n\u001b[0;32m    635\u001b[0m     \u001b[1;32mdef\u001b[0m \u001b[0mfind_element\u001b[0m\u001b[1;33m(\u001b[0m\u001b[0mself\u001b[0m\u001b[1;33m,\u001b[0m \u001b[0mby\u001b[0m\u001b[1;33m=\u001b[0m\u001b[0mBy\u001b[0m\u001b[1;33m.\u001b[0m\u001b[0mID\u001b[0m\u001b[1;33m,\u001b[0m \u001b[0mvalue\u001b[0m\u001b[1;33m=\u001b[0m\u001b[1;32mNone\u001b[0m\u001b[1;33m)\u001b[0m\u001b[1;33m:\u001b[0m\u001b[1;33m\u001b[0m\u001b[1;33m\u001b[0m\u001b[0m\n",
      "\u001b[1;32m~\\miniconda3\\envs\\ds_study\\lib\\site-packages\\selenium\\webdriver\\remote\\webdriver.py\u001b[0m in \u001b[0;36mexecute\u001b[1;34m(self, driver_command, params)\u001b[0m\n\u001b[0;32m    319\u001b[0m         \u001b[0mresponse\u001b[0m \u001b[1;33m=\u001b[0m \u001b[0mself\u001b[0m\u001b[1;33m.\u001b[0m\u001b[0mcommand_executor\u001b[0m\u001b[1;33m.\u001b[0m\u001b[0mexecute\u001b[0m\u001b[1;33m(\u001b[0m\u001b[0mdriver_command\u001b[0m\u001b[1;33m,\u001b[0m \u001b[0mparams\u001b[0m\u001b[1;33m)\u001b[0m\u001b[1;33m\u001b[0m\u001b[1;33m\u001b[0m\u001b[0m\n\u001b[0;32m    320\u001b[0m         \u001b[1;32mif\u001b[0m \u001b[0mresponse\u001b[0m\u001b[1;33m:\u001b[0m\u001b[1;33m\u001b[0m\u001b[1;33m\u001b[0m\u001b[0m\n\u001b[1;32m--> 321\u001b[1;33m             \u001b[0mself\u001b[0m\u001b[1;33m.\u001b[0m\u001b[0merror_handler\u001b[0m\u001b[1;33m.\u001b[0m\u001b[0mcheck_response\u001b[0m\u001b[1;33m(\u001b[0m\u001b[0mresponse\u001b[0m\u001b[1;33m)\u001b[0m\u001b[1;33m\u001b[0m\u001b[1;33m\u001b[0m\u001b[0m\n\u001b[0m\u001b[0;32m    322\u001b[0m             response['value'] = self._unwrap_value(\n\u001b[0;32m    323\u001b[0m                 response.get('value', None))\n",
      "\u001b[1;32m~\\miniconda3\\envs\\ds_study\\lib\\site-packages\\selenium\\webdriver\\remote\\errorhandler.py\u001b[0m in \u001b[0;36mcheck_response\u001b[1;34m(self, response)\u001b[0m\n\u001b[0;32m    240\u001b[0m                 \u001b[0malert_text\u001b[0m \u001b[1;33m=\u001b[0m \u001b[0mvalue\u001b[0m\u001b[1;33m[\u001b[0m\u001b[1;34m'alert'\u001b[0m\u001b[1;33m]\u001b[0m\u001b[1;33m.\u001b[0m\u001b[0mget\u001b[0m\u001b[1;33m(\u001b[0m\u001b[1;34m'text'\u001b[0m\u001b[1;33m)\u001b[0m\u001b[1;33m\u001b[0m\u001b[1;33m\u001b[0m\u001b[0m\n\u001b[0;32m    241\u001b[0m             \u001b[1;32mraise\u001b[0m \u001b[0mexception_class\u001b[0m\u001b[1;33m(\u001b[0m\u001b[0mmessage\u001b[0m\u001b[1;33m,\u001b[0m \u001b[0mscreen\u001b[0m\u001b[1;33m,\u001b[0m \u001b[0mstacktrace\u001b[0m\u001b[1;33m,\u001b[0m \u001b[0malert_text\u001b[0m\u001b[1;33m)\u001b[0m\u001b[1;33m\u001b[0m\u001b[1;33m\u001b[0m\u001b[0m\n\u001b[1;32m--> 242\u001b[1;33m         \u001b[1;32mraise\u001b[0m \u001b[0mexception_class\u001b[0m\u001b[1;33m(\u001b[0m\u001b[0mmessage\u001b[0m\u001b[1;33m,\u001b[0m \u001b[0mscreen\u001b[0m\u001b[1;33m,\u001b[0m \u001b[0mstacktrace\u001b[0m\u001b[1;33m)\u001b[0m\u001b[1;33m\u001b[0m\u001b[1;33m\u001b[0m\u001b[0m\n\u001b[0m\u001b[0;32m    243\u001b[0m \u001b[1;33m\u001b[0m\u001b[0m\n\u001b[0;32m    244\u001b[0m     \u001b[1;32mdef\u001b[0m \u001b[0m_value_or_default\u001b[0m\u001b[1;33m(\u001b[0m\u001b[0mself\u001b[0m\u001b[1;33m,\u001b[0m \u001b[0mobj\u001b[0m\u001b[1;33m,\u001b[0m \u001b[0mkey\u001b[0m\u001b[1;33m,\u001b[0m \u001b[0mdefault\u001b[0m\u001b[1;33m)\u001b[0m\u001b[1;33m:\u001b[0m\u001b[1;33m\u001b[0m\u001b[1;33m\u001b[0m\u001b[0m\n",
      "\u001b[1;31mInvalidSelectorException\u001b[0m: Message: invalid selector: An invalid or illegal selector was specified\n  (Session info: chrome=99.0.4844.51)\n"
     ]
    }
   ],
   "source": [
    "# 세부 링크\n",
    "\n",
    "outers[0].find_element_by_css_selector(\"p.list_info > a > \").get_attribute(\"href\")"
   ]
  },
  {
   "cell_type": "code",
   "execution_count": 23,
   "metadata": {},
   "outputs": [],
   "source": [
    "import requests"
   ]
  },
  {
   "cell_type": "code",
   "execution_count": null,
   "metadata": {},
   "outputs": [
    {
     "data": {
      "text/plain": [
       "b'\\xff\\xd8\\xff\\xe0\\x00'"
      ]
     },
     "execution_count": 68,
     "metadata": {},
     "output_type": "execute_result"
    }
   ],
   "source": [
    "res = requests.get(outers[0].find_element_by_css_selector(\"img\").get_attribute(\"src\"))\n",
    "res.content[:5]"
   ]
  },
  {
   "cell_type": "code",
   "execution_count": null,
   "metadata": {},
   "outputs": [],
   "source": [
    "with open(\"./outer.png\", \"wb\") as f:\n",
    "    f.write(res.content)"
   ]
  },
  {
   "cell_type": "code",
   "execution_count": 24,
   "metadata": {},
   "outputs": [],
   "source": [
    "driver.quit()"
   ]
  },
  {
   "cell_type": "code",
   "execution_count": 25,
   "metadata": {},
   "outputs": [],
   "source": [
    "url = \"https://www.musinsa.com/app/\"\n",
    "driver = webdriver.Chrome(\"../driver/chromedriver.exe\")\n",
    "driver.implicitly_wait(10) # 웹 페이지가 전체가 로딩 될 때까지 10초 간 대기하고 10초 안에 로딩이 완료되면 다음 코드를 실행\n",
    "driver.get(url)"
   ]
  },
  {
   "cell_type": "code",
   "execution_count": null,
   "metadata": {},
   "outputs": [],
   "source": [
    "#searchList > li:nth-child(1) > div.li_inner > div.list_img > a\n",
    "#searchList > li:nth-child(1) > div.li_inner > div.list_img > a\n",
    "#searchList > li:nth-child(1) > div.li_inner > div.list_img > a > img"
   ]
  },
  {
   "cell_type": "code",
   "execution_count": 26,
   "metadata": {},
   "outputs": [],
   "source": [
    "outers = driver.find_elements_by_css_selector(\"#searchList > li\")"
   ]
  },
  {
   "cell_type": "code",
   "execution_count": 29,
   "metadata": {},
   "outputs": [
    {
     "name": "stderr",
     "output_type": "stream",
     "text": [
      "C:\\Users\\nihso\\AppData\\Local\\Temp/ipykernel_10212/1469013502.py:7: TqdmDeprecationWarning: This function will be removed in tqdm==5.0.0\n",
      "Please use `tqdm.notebook.tqdm` instead of `tqdm.tqdm_notebook`\n",
      "  for outer in tqdm_notebook(outers[:3]):\n"
     ]
    },
    {
     "data": {
      "application/vnd.jupyter.widget-view+json": {
       "model_id": "127a15c84595468eac54012b18da1aff",
       "version_major": 2,
       "version_minor": 0
      },
      "text/plain": [
       "  0%|          | 0/3 [00:00<?, ?it/s]"
      ]
     },
     "metadata": {},
     "output_type": "display_data"
    },
    {
     "data": {
      "text/html": [
       "<div>\n",
       "<style scoped>\n",
       "    .dataframe tbody tr th:only-of-type {\n",
       "        vertical-align: middle;\n",
       "    }\n",
       "\n",
       "    .dataframe tbody tr th {\n",
       "        vertical-align: top;\n",
       "    }\n",
       "\n",
       "    .dataframe thead th {\n",
       "        text-align: right;\n",
       "    }\n",
       "</style>\n",
       "<table border=\"1\" class=\"dataframe\">\n",
       "  <thead>\n",
       "    <tr style=\"text-align: right;\">\n",
       "      <th></th>\n",
       "      <th>title</th>\n",
       "      <th>price</th>\n",
       "      <th>sale</th>\n",
       "      <th>link</th>\n",
       "      <th>img</th>\n",
       "    </tr>\n",
       "  </thead>\n",
       "  <tbody>\n",
       "    <tr>\n",
       "      <th>0</th>\n",
       "      <td>2WAY 스웻 후드 집업 (MELANGE GREY)</td>\n",
       "      <td>42,500</td>\n",
       "      <td>6</td>\n",
       "      <td>https://store.musinsa.com/app/goods/1778404</td>\n",
       "      <td>https://image.msscdn.net/images/goods_img/2021...</td>\n",
       "    </tr>\n",
       "    <tr>\n",
       "      <th>1</th>\n",
       "      <td>스탠다드 후드 스웨트 집업 - 멜란지 그레이</td>\n",
       "      <td>35,890</td>\n",
       "      <td>10</td>\n",
       "      <td>https://store.musinsa.com/app/goods/640839</td>\n",
       "      <td>https://image.msscdn.net/images/goods_img/2017...</td>\n",
       "    </tr>\n",
       "    <tr>\n",
       "      <th>2</th>\n",
       "      <td>2WAY 스웻 후드 집업 (BLACK)</td>\n",
       "      <td>42,500</td>\n",
       "      <td>6</td>\n",
       "      <td>https://store.musinsa.com/app/goods/1778408</td>\n",
       "      <td>https://image.msscdn.net/images/goods_img/2021...</td>\n",
       "    </tr>\n",
       "  </tbody>\n",
       "</table>\n",
       "</div>"
      ],
      "text/plain": [
       "                          title   price sale  \\\n",
       "0  2WAY 스웻 후드 집업 (MELANGE GREY)  42,500    6   \n",
       "1      스탠다드 후드 스웨트 집업 - 멜란지 그레이  35,890   10   \n",
       "2         2WAY 스웻 후드 집업 (BLACK)  42,500    6   \n",
       "\n",
       "                                          link  \\\n",
       "0  https://store.musinsa.com/app/goods/1778404   \n",
       "1   https://store.musinsa.com/app/goods/640839   \n",
       "2  https://store.musinsa.com/app/goods/1778408   \n",
       "\n",
       "                                                 img  \n",
       "0  https://image.msscdn.net/images/goods_img/2021...  \n",
       "1  https://image.msscdn.net/images/goods_img/2017...  \n",
       "2  https://image.msscdn.net/images/goods_img/2021...  "
      ]
     },
     "execution_count": 29,
     "metadata": {},
     "output_type": "execute_result"
    }
   ],
   "source": [
    "# 전체 데이터 크롤링\n",
    "\n",
    "from tqdm import tqdm_notebook\n",
    "\n",
    "datas = []\n",
    "\n",
    "for outer in tqdm_notebook(outers[:3]):\n",
    "    title = outer.find_element_by_css_selector(\"p.list_info > a\").get_attribute(\"title\")\n",
    "    price = outer.find_element_by_css_selector('p.price').text.split(\" \")[1][:-1]\n",
    "    sale = outer.find_element_by_css_selector('.icon_new').text.split(\" \")[1][:-1]\n",
    "    link = outer.find_element_by_css_selector(\"p.list_info > a \").get_attribute(\"href\")\n",
    "    img = outer.find_element_by_css_selector(\"img\").get_attribute(\"src\")\n",
    "    datas.append({\n",
    "        \"title\": title,\n",
    "        \"price\": price,\n",
    "        \"sale\": sale,\n",
    "        \"link\": link,\n",
    "        \"img\": img,\n",
    "    })\n",
    "    time.sleep(2)\n",
    "df = pd.DataFrame(datas)\n",
    "df"
   ]
  },
  {
   "cell_type": "code",
   "execution_count": 30,
   "metadata": {},
   "outputs": [
    {
     "data": {
      "text/html": [
       "<div>\n",
       "<style scoped>\n",
       "    .dataframe tbody tr th:only-of-type {\n",
       "        vertical-align: middle;\n",
       "    }\n",
       "\n",
       "    .dataframe tbody tr th {\n",
       "        vertical-align: top;\n",
       "    }\n",
       "\n",
       "    .dataframe thead th {\n",
       "        text-align: right;\n",
       "    }\n",
       "</style>\n",
       "<table border=\"1\" class=\"dataframe\">\n",
       "  <thead>\n",
       "    <tr style=\"text-align: right;\">\n",
       "      <th></th>\n",
       "      <th>title</th>\n",
       "      <th>price</th>\n",
       "      <th>sale</th>\n",
       "      <th>link</th>\n",
       "      <th>img</th>\n",
       "    </tr>\n",
       "  </thead>\n",
       "  <tbody>\n",
       "    <tr>\n",
       "      <th>0</th>\n",
       "      <td>2WAY 스웻 후드 집업 (MELANGE GREY)</td>\n",
       "      <td>42,500</td>\n",
       "      <td>6</td>\n",
       "      <td>https://store.musinsa.com/app/goods/1778404</td>\n",
       "      <td>https://image.msscdn.net/images/goods_img/2021...</td>\n",
       "    </tr>\n",
       "    <tr>\n",
       "      <th>1</th>\n",
       "      <td>스탠다드 후드 스웨트 집업 - 멜란지 그레이</td>\n",
       "      <td>35,890</td>\n",
       "      <td>10</td>\n",
       "      <td>https://store.musinsa.com/app/goods/640839</td>\n",
       "      <td>https://image.msscdn.net/images/goods_img/2017...</td>\n",
       "    </tr>\n",
       "    <tr>\n",
       "      <th>2</th>\n",
       "      <td>2WAY 스웻 후드 집업 (BLACK)</td>\n",
       "      <td>42,500</td>\n",
       "      <td>6</td>\n",
       "      <td>https://store.musinsa.com/app/goods/1778408</td>\n",
       "      <td>https://image.msscdn.net/images/goods_img/2021...</td>\n",
       "    </tr>\n",
       "  </tbody>\n",
       "</table>\n",
       "</div>"
      ],
      "text/plain": [
       "                          title   price sale  \\\n",
       "0  2WAY 스웻 후드 집업 (MELANGE GREY)  42,500    6   \n",
       "1      스탠다드 후드 스웨트 집업 - 멜란지 그레이  35,890   10   \n",
       "2         2WAY 스웻 후드 집업 (BLACK)  42,500    6   \n",
       "\n",
       "                                          link  \\\n",
       "0  https://store.musinsa.com/app/goods/1778404   \n",
       "1   https://store.musinsa.com/app/goods/640839   \n",
       "2  https://store.musinsa.com/app/goods/1778408   \n",
       "\n",
       "                                                 img  \n",
       "0  https://image.msscdn.net/images/goods_img/2021...  \n",
       "1  https://image.msscdn.net/images/goods_img/2017...  \n",
       "2  https://image.msscdn.net/images/goods_img/2021...  "
      ]
     },
     "execution_count": 30,
     "metadata": {},
     "output_type": "execute_result"
    }
   ],
   "source": [
    "df"
   ]
  },
  {
   "cell_type": "code",
   "execution_count": null,
   "metadata": {},
   "outputs": [],
   "source": [
    "driver.quit()"
   ]
  },
  {
   "cell_type": "code",
   "execution_count": 31,
   "metadata": {},
   "outputs": [
    {
     "name": "stderr",
     "output_type": "stream",
     "text": [
      "C:\\Users\\nihso\\AppData\\Local\\Temp/ipykernel_10212/959437708.py:3: TqdmDeprecationWarning: This function will be removed in tqdm==5.0.0\n",
      "Please use `tqdm.notebook.tqdm` instead of `tqdm.tqdm_notebook`\n",
      "  for idx, rows in tqdm_notebook(df.iterrows()):\n"
     ]
    },
    {
     "data": {
      "application/vnd.jupyter.widget-view+json": {
       "model_id": "d123f3a3f9594a4b853ee5fd90dbb324",
       "version_major": 2,
       "version_minor": 0
      },
      "text/plain": [
       "0it [00:00, ?it/s]"
      ]
     },
     "metadata": {},
     "output_type": "display_data"
    }
   ],
   "source": [
    "# 이미지 다운로드\n",
    "\n",
    "for idx, rows in tqdm_notebook(df.iterrows()):\n",
    "    thumb_link = rows[\"img\"]\n",
    "    response =requests.get(thumb_link)\n",
    "    name = str(idx) + \"_\" + rows[\"title\"]\n",
    "    with open(\"./musinsa/{}.png\".format(name), \"wb\") as f:\n",
    "        f.write(response.content)"
   ]
  },
  {
   "cell_type": "code",
   "execution_count": 38,
   "metadata": {},
   "outputs": [
    {
     "name": "stdout",
     "output_type": "stream",
     "text": [
      "Overwriting ./musinsa.py\n"
     ]
    }
   ],
   "source": [
    "%%writefile ./musinsa.py\n",
    "\n",
    "import pandas as pd\n",
    "import time\n",
    "import requests\n",
    "from selenium import webdriver\n",
    "from selenium.webdriver.common.by import By\n",
    "from selenium.webdriver.support.ui import WebDriverWait\n",
    "from selenium.webdriver.support import expected_conditions as EC \n",
    "\n",
    "print('#1. selenium get url')\n",
    "options =webdriver.ChromeOptions()\n",
    "options.add_argument(\"headless\")\n",
    "\n",
    "url = \"https://www.musinsa.com/app/\"\n",
    "driver = webdriver.Chrome(\"../driver/chromedriver.exe\", options=options)\n",
    "driver.implicitly_wait(10) # 웹 페이지가 전체가 로딩 될 때까지 10초 간 대기하고 10초 안에 로딩이 완료되면 다음 코드를 실행\n",
    "driver.get(url)\n",
    "\n",
    "print(\"2. maximize window\")\n",
    "#화면 최대화\n",
    "driver.maximize_window()\n",
    "print(\"3, going to best item\")\n",
    "# 인기 => 후드 집업\n",
    "besk_link = driver.find_element_by_css_selector(\"#ui-id-2 > ul:nth-child(1) > li:nth-child(1) > a\").get_attribute(\"href\")\n",
    "besk_link\n",
    "# 인기 => 후드 집업 링크 => 새 탭으로 열기\n",
    "driver.execute_script(\"window.open('{}')\".format(besk_link))\n",
    "# 후드 집업 탭으로 이동\n",
    "driver.switch_to_window(driver.window_handles[1])\n",
    "print(\"4. tab open ok! I`m waiting..\")\n",
    "time.sleep(3)\n",
    "\n",
    "\n",
    "print(\"#5. item option check\")\n",
    "# 단독 상품\n",
    "# driver.find_element_by_css_selector(\"#goods_list > div.boxed-list-wrapper > div.thumbType_box.box > span:nth-child(2) > label\").click()\n",
    "\n",
    "WebDriverWait(driver, 5).\\\n",
    "until(EC.presence_of_element_located((By.CSS_SELECTOR, \"#goods_list > div.boxed-list-wrapper > div.thumbType_box.box > span:nth-child(2) > label\"))).click()\n",
    "\n",
    "# 세일 상품\n",
    "\n",
    "# driver.find_element_by_css_selector(\"#btn_sale\").click()\n",
    "\n",
    "WebDriverWait(driver, 5).\\\n",
    "until(EC.presence_of_element_located((By.CSS_SELECTOR, \"#btn_sale\"))).click()\n",
    "# 최소 최대 금액 설정\n",
    "\n",
    "WebDriverWait(driver, 5).\\\n",
    "until(EC.presence_of_element_located((By.CSS_SELECTOR, \"#minPrice\"))).send_keys(10000)\n",
    "\n",
    "WebDriverWait(driver, 5).\\\n",
    "until(EC.presence_of_element_located((By.XPATH, '/html/body/div[2]/div[3]/div[7]/ul/li[7]/input[2]'))).send_keys(100000)\n",
    "\n",
    "WebDriverWait(driver, 5).\\\n",
    "until(EC.presence_of_element_located((By.CSS_SELECTOR, \"#btn_price_search\"))).click()\n",
    "\n",
    "print(\"#6 item option check done, i`m waiting\")\n",
    "time.sleep(3)\n",
    "\n",
    "print(\"#7. outer crawling start\")\n",
    "\n",
    "# 부모 태그\n",
    "# \"#searchList > li:nth-child(1) > div.li_inner\"\n",
    "outers = driver.find_elements_by_css_selector(\"#searchList > li\")\n",
    "len(outers)\n",
    "\n",
    "# 전체 데이터 크롤링\n",
    "\n",
    "datas = []\n",
    "\n",
    "for idx, outer in enumerate(outers[:3]):\n",
    "    title = outer.find_element_by_css_selector(\"p.list_info > a\").get_attribute(\"title\")\n",
    "    price = outer.find_element_by_css_selector('p.price').text.split(\" \")[1][:-1]\n",
    "    sale = outer.find_element_by_css_selector('.icon_new').text.split(\" \")[1][:-1]\n",
    "    link = outer.find_element_by_css_selector(\"p.list_info > a \").get_attribute(\"href\")\n",
    "    img = outer.find_element_by_css_selector(\"img\").get_attribute(\"data-original\")\n",
    "    print(img)\n",
    "    datas.append({\n",
    "        \"title\": title,\n",
    "        \"price\": price,\n",
    "        \"sale\": sale,\n",
    "        \"link\": link,\n",
    "        \"img\": img,\n",
    "    })\n",
    "    print(\"#8. idx: {}, title: {}\".format(idx, title))\n",
    "     \n",
    "driver.quit()\n",
    "     \n",
    "df = pd.DataFrame(datas)\n",
    "df.to_excel(\"./musinsa/musinsa.xlsx\", encoding=\"utf-8\")\n",
    "\n",
    "print(\"#9. crawling Done! driver quit & excel save\")\n",
    "\n",
    "print(\"#10. img download\")\n",
    "for idx, rows in df.iterrows():\n",
    "    thumb_link = rows[\"img\"]\n",
    "    response =requests.get(thumb_link)\n",
    "    name = str(idx) + \"_\" + rows[\"title\"]\n",
    "    with open(\"./musinsa/{}.png\".format(name), \"wb\") as f:\n",
    "        f.write(response.content)\n",
    "\n",
    "print(\"11. img download done\")\n",
    "\n",
    "print(\"Good job!\")\n"
   ]
  },
  {
   "cell_type": "code",
   "execution_count": null,
   "metadata": {},
   "outputs": [],
   "source": [
    "!rm -rf musinsa/\n",
    "!mkdir musinsa/"
   ]
  },
  {
   "cell_type": "code",
   "execution_count": 39,
   "metadata": {},
   "outputs": [
    {
     "name": "stdout",
     "output_type": "stream",
     "text": [
      "#1. selenium get url\n",
      "2. maximize window\n",
      "3, going to best item\n",
      "4. tab open ok! I`m waiting..\n",
      "#5. item option check\n",
      "#6 item option check done, i`m waiting\n",
      "#7. outer crawling start\n",
      "https://image.msscdn.net/images/goods_img/20210204/1778404/1778404_1_125.jpg\n",
      "#8. idx: 0, title: 2WAY 스웻 후드 집업 (MELANGE GREY)\n",
      "https://image.msscdn.net/images/goods_img/20170922/640839/640839_6_125.jpg\n",
      "#8. idx: 1, title: 스탠다드 후드 스웨트 집업 - 멜란지 그레이\n",
      "https://image.msscdn.net/images/goods_img/20210204/1778408/1778408_1_125.jpg\n",
      "#8. idx: 2, title: 2WAY 스웻 후드 집업 (BLACK)\n",
      "#9. crawling Done! driver quit & excel save\n",
      "#10. img download\n",
      "11. img download done\n",
      "Good job!\n"
     ]
    },
    {
     "name": "stderr",
     "output_type": "stream",
     "text": [
      "c:\\Users\\nihso\\Documents\\ds_study\\source_code\\musinsa.py:29: DeprecationWarning: use driver.switch_to.window instead\n",
      "  driver.switch_to_window(driver.window_handles[1])\n"
     ]
    }
   ],
   "source": [
    "!python musinsa.py"
   ]
  },
  {
   "cell_type": "code",
   "execution_count": null,
   "metadata": {},
   "outputs": [],
   "source": []
  }
 ],
 "metadata": {
  "interpreter": {
   "hash": "0bca9d5f511583d831aa95991a671d9c74af529339daef3c40214033e7f81a84"
  },
  "kernelspec": {
   "display_name": "Python 3.9.7 ('ds_study')",
   "language": "python",
   "name": "python3"
  },
  "language_info": {
   "codemirror_mode": {
    "name": "ipython",
    "version": 3
   },
   "file_extension": ".py",
   "mimetype": "text/x-python",
   "name": "python",
   "nbconvert_exporter": "python",
   "pygments_lexer": "ipython3",
   "version": "3.8.12"
  },
  "orig_nbformat": 4
 },
 "nbformat": 4,
 "nbformat_minor": 2
}
